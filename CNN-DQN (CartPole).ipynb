{
 "cells": [
  {
   "cell_type": "code",
   "execution_count": null,
   "metadata": {},
   "outputs": [],
   "source": [
    "import torch.nn.functional as F\n",
    "import gym\n",
    "import cv2\n",
    "import torch as T\n",
    "import torch.nn.functional as F\n",
    "import torch.nn as nn\n",
    "import math ,random\n",
    "import numpy as np\n",
    "from IPython.display import clear_output\n",
    "import matplotlib.pyplot as plt\n",
    "%matplotlib inline"
   ]
  },
  {
   "cell_type": "code",
   "execution_count": null,
   "metadata": {},
   "outputs": [],
   "source": [
    "env=gym.make('CartPole-v0')"
   ]
  },
  {
   "cell_type": "code",
   "execution_count": null,
   "metadata": {},
   "outputs": [],
   "source": [
    "env.reset()\n",
    "state=env.render('rgb_array')\n",
    "env.close()"
   ]
  },
  {
   "cell_type": "code",
   "execution_count": null,
   "metadata": {},
   "outputs": [],
   "source": [
    "a=cv2.resize(state,(64,64))"
   ]
  },
  {
   "cell_type": "code",
   "execution_count": null,
   "metadata": {},
   "outputs": [],
   "source": [
    "plt.imshow(a)"
   ]
  },
  {
   "cell_type": "code",
   "execution_count": null,
   "metadata": {},
   "outputs": [],
   "source": [
    "def get_cart_location(screen_width):\n",
    "    world_width = env.x_threshold * 2\n",
    "    scale = screen_width / world_width\n",
    "    return int(env.state[0] * scale + screen_width / 2.0)\n",
    "\n",
    "def get_screen():\n",
    "    \n",
    "    screen = env.render(mode='rgb_array')\n",
    "    \n",
    "    screen_height, screen_width,_ = screen.shape\n",
    "    screen = screen[int(screen_height*0.4):int(screen_height * 0.8),:]\n",
    "    view_width = int(screen_width * 0.6)\n",
    "    cart_location = get_cart_location(screen_width)\n",
    "    if cart_location < view_width // 2:\n",
    "        slice_range = slice(view_width)\n",
    "    elif cart_location > (screen_width - view_width // 2):\n",
    "        slice_range = slice(-view_width, None)\n",
    "    else:\n",
    "        slice_range = slice(cart_location - view_width // 2,\n",
    "                            cart_location + view_width // 2)\n",
    "    \n",
    "    \n",
    "    # Strip off the edges, so that we have a square image centered on a cart\n",
    "    screen = screen[ :, slice_range,:]\n",
    "    \n",
    "    width = int(screen.shape[1] * 30 / 100)\n",
    "    height = int(screen.shape[0] * 30 / 100)\n",
    "    dim = (width, height)\n",
    "    # resize image\n",
    "    state = cv2.resize(screen, dim, interpolation = cv2.INTER_AREA) \n",
    "    screen=state.transpose((2, 0, 1))\n",
    "    \n",
    "    \n",
    "    \n",
    "    # Convert to float, rescale, convert to torch tensor\n",
    "    # (this doesn't require a copy)\n",
    "    \n",
    "    screen = np.ascontiguousarray(screen, dtype=np.float32) / 255\n",
    "    screen=np.expand_dims(screen,0)\n",
    "    screen = T.from_numpy(screen)\n",
    "    # Resize, and add a batch dimension (BCHW)\n",
    "    \n",
    "    return screen\n"
   ]
  },
  {
   "cell_type": "code",
   "execution_count": null,
   "metadata": {},
   "outputs": [],
   "source": [
    "a=get_screen()\n",
    "env.close()"
   ]
  },
  {
   "cell_type": "code",
   "execution_count": null,
   "metadata": {},
   "outputs": [],
   "source": []
  },
  {
   "cell_type": "code",
   "execution_count": null,
   "metadata": {},
   "outputs": [],
   "source": [
    "a.shape"
   ]
  },
  {
   "cell_type": "code",
   "execution_count": null,
   "metadata": {},
   "outputs": [],
   "source": [
    "class CnnDQN(nn.Module):\n",
    "    def __init__(self, input_shape, num_actions):\n",
    "        super(CnnDQN, self).__init__()\n",
    "        self.device='cuda' if T.cuda.is_available() else 'cpu'\n",
    "        self.input_shape = input_shape\n",
    "        self.num_actions = num_actions\n",
    "        \n",
    "        self.features = nn.Sequential(\n",
    "            nn.Conv2d(input_shape[0], 32, kernel_size=8, stride=4),\n",
    "            nn.ReLU(),\n",
    "            nn.Conv2d(32, 64, kernel_size=4, stride=2),\n",
    "            nn.ReLU(),\n",
    "            nn.Conv2d(64, 64, kernel_size=3, stride=1),\n",
    "            nn.ReLU()\n",
    "        )\n",
    "        \n",
    "        self.fc = nn.Sequential(\n",
    "            nn.Linear(self.feature_size(), 512),\n",
    "            nn.ReLU(),\n",
    "            nn.Linear(512, self.num_actions)\n",
    "        )\n",
    "        \n",
    "    def forward(self, x):\n",
    "        x=x.to(self.device)\n",
    "        x = self.features(x)\n",
    "        x = x.view(x.size(0), -1)\n",
    "        x = self.fc(x)\n",
    "        return x\n",
    "    \n",
    "    def feature_size(self):\n",
    "        return self.features(T.zeros(1, *self.input_shape)).view(1, -1).size(1)\n",
    "    \n",
    "    def act(self, state, epsilon):\n",
    "        if random.random() > epsilon:\n",
    "            \n",
    "            q_value = self.forward(state)\n",
    "            action  = T.argmax(q_value).item()\n",
    "        else:\n",
    "            action = random.randrange(env.action_space.n)\n",
    "        return action"
   ]
  },
  {
   "cell_type": "code",
   "execution_count": null,
   "metadata": {},
   "outputs": [],
   "source": [
    "from collections import deque\n",
    "class ReplayBuffer(object):\n",
    "    def __init__(self, capacity):\n",
    "        self.buffer = deque(maxlen=capacity)\n",
    "\n",
    "    def push(self, state, action, reward, next_state, done):\n",
    "        #state      = np.expand_dims(state, 0)\n",
    "        #next_state = np.expand_dims(next_state, 0)\n",
    "\n",
    "        self.buffer.append((state, action, reward, next_state, done))\n",
    "\n",
    "    def sample(self, batch_size):\n",
    "        state, action, reward, next_state, done = zip(*random.sample(self.buffer, batch_size))\n",
    "        return np.concatenate(state), action, reward, np.concatenate(next_state), done\n",
    "\n",
    "    def __len__(self):\n",
    "        return len(self.buffer)"
   ]
  },
  {
   "cell_type": "code",
   "execution_count": null,
   "metadata": {},
   "outputs": [],
   "source": [
    "epsilon_start = 1.0\n",
    "epsilon_final = 0.01\n",
    "epsilon_decay = 3000\n",
    "\n",
    "epsilon_by_frame = lambda frame_idx: epsilon_final + (epsilon_start - epsilon_final) * math.exp(-1. * frame_idx / epsilon_decay)"
   ]
  },
  {
   "cell_type": "code",
   "execution_count": null,
   "metadata": {},
   "outputs": [],
   "source": [
    "device= 'cuda' if T.cuda.is_available() else 'cpu'\n",
    "model=CnnDQN([3, 48, 108],2)\n",
    "model=model.to(device)\n",
    "model_target=CnnDQN([3, 48, 108],2)\n",
    "model_target=model_target.to(device)\n",
    "model_target.load_state_dict(model.state_dict())\n",
    "model_target.eval()\n",
    "optimizer = T.optim.Adam(model.parameters())\n",
    "replay_buffer = ReplayBuffer(10000)\n",
    "crit=nn.MSELoss()\n",
    "gamma=0.999"
   ]
  },
  {
   "cell_type": "code",
   "execution_count": null,
   "metadata": {},
   "outputs": [],
   "source": [
    "def compute_loss(batch_size):\n",
    "    state,action,reward,next_state,done=replay_buffer.sample(batch_size)\n",
    "\n",
    "    state=T.FloatTensor(state)\n",
    "    action=T.tensor(action).cuda()\n",
    "    reward=T.tensor(reward).cuda()\n",
    "    next_state=T.FloatTensor(next_state)\n",
    "    done=T.tensor(done).float().cuda()\n",
    "\n",
    "    q_values      = model(state)\n",
    "    next_q_values = model_target(next_state).detach()\n",
    "\n",
    "    q_value          = q_values.gather(1, action.unsqueeze(1)).squeeze(1)\n",
    "    next_q_value     = next_q_values.max(1)[0]\n",
    "    expected_q_value = reward + gamma * next_q_value * (1 - done)\n",
    "\n",
    "    loss = crit(q_value,expected_q_value)\n",
    "    optimizer.zero_grad()\n",
    "    loss.backward()\n",
    "    optimizer.step()\n",
    "    return loss"
   ]
  },
  {
   "cell_type": "code",
   "execution_count": null,
   "metadata": {},
   "outputs": [],
   "source": [
    "def plot(frame_idx, rewards, losses):\n",
    "    clear_output(True)\n",
    "    plt.figure(figsize=(20,5))\n",
    "    plt.subplot(131)\n",
    "    plt.title('frame %s. reward: %s' % (frame_idx, np.mean(rewards[-10:])))\n",
    "    plt.plot(rewards)\n",
    "    plt.subplot(132)\n",
    "    plt.title('loss')\n",
    "    plt.plot(losses)\n",
    "    plt.show()"
   ]
  },
  {
   "cell_type": "code",
   "execution_count": null,
   "metadata": {},
   "outputs": [],
   "source": [
    "num_frames = 2000\n",
    "batch_size = 64\n",
    "gamma      = 1\n",
    "\n",
    "losses = []\n",
    "all_rewards = []\n",
    "episode_reward = 0\n",
    "env.reset()\n",
    "s1=get_screen()\n",
    "s2=get_screen()\n",
    "state=s2-s1\n",
    "es=0\n",
    "for frame_idx in range(1, num_frames + 1):\n",
    "    done =0\n",
    "    while not done:\n",
    "        epsilon = epsilon_by_frame(es)\n",
    "        es+=1\n",
    "        action = model.act(state, epsilon)\n",
    "\n",
    "        _, reward, done, _ = env.step(action)\n",
    "        s1=s2\n",
    "        s2=get_screen()\n",
    "        next_state=s2-s1\n",
    "\n",
    "        replay_buffer.push(state, action, reward, next_state, done)\n",
    "\n",
    "        state = next_state\n",
    "        episode_reward += reward\n",
    "\n",
    "\n",
    "            \n",
    "\n",
    "        if len(replay_buffer) > batch_size:\n",
    "            loss = compute_loss(batch_size)\n",
    "            losses.append(loss.item())\n",
    "    env.reset()\n",
    "    s1=get_screen()\n",
    "    s2=get_screen()\n",
    "    state=s2-s1\n",
    "    all_rewards.append(episode_reward)\n",
    "    episode_reward = 0\n",
    "    if frame_idx % 25==0:\n",
    "        model_target.load_state_dict(model.state_dict())\n",
    "        \n",
    "    plot(frame_idx, all_rewards, losses)\n",
    "    \n"
   ]
  },
  {
   "cell_type": "code",
   "execution_count": null,
   "metadata": {},
   "outputs": [],
   "source": [
    "env.close()"
   ]
  },
  {
   "cell_type": "code",
   "execution_count": null,
   "metadata": {},
   "outputs": [],
   "source": []
  }
 ],
 "metadata": {
  "kernelspec": {
   "display_name": "Python 3",
   "language": "python",
   "name": "python3"
  },
  "language_info": {
   "codemirror_mode": {
    "name": "ipython",
    "version": 3
   },
   "file_extension": ".py",
   "mimetype": "text/x-python",
   "name": "python",
   "nbconvert_exporter": "python",
   "pygments_lexer": "ipython3",
   "version": "3.7.4"
  }
 },
 "nbformat": 4,
 "nbformat_minor": 2
}
